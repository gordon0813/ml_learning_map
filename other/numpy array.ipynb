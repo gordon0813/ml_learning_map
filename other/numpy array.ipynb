{
 "cells": [
  {
   "cell_type": "code",
   "execution_count": 2,
   "metadata": {},
   "outputs": [],
   "source": [
    "import numpy as np\n",
    "#1 to "
   ]
  },
  {
   "cell_type": "markdown",
   "metadata": {},
   "source": [
    "__[sort search count](https://docs.scipy.org/doc/numpy-1.13.0/reference/routines.sort.html)__"
   ]
  },
  {
   "cell_type": "markdown",
   "metadata": {},
   "source": [
    "# 創造"
   ]
  },
  {
   "cell_type": "code",
   "execution_count": 3,
   "metadata": {},
   "outputs": [
    {
     "name": "stdout",
     "output_type": "stream",
     "text": [
      "3. [[0.15889366 0.49303314 0.20816062 0.17599975 0.35411996]\n",
      " [0.57743183 0.94563562 0.54431419 0.18313164 0.61410067]\n",
      " [0.47061656 0.83163114 0.80043661 0.1984024  0.99340405]\n",
      " [0.27674128 0.29557526 0.19050302 0.24502094 0.71455468]]\n",
      "4. [[ True  True]\n",
      " [ True  True]]\n",
      "[ True  True  True  True  True  True  True  True  True  True]\n"
     ]
    }
   ],
   "source": [
    "#np.arange(0,6,1)   #創造\n",
    "#np.zeros((2,3))\n",
    "print(\"3.\",np.random.rand(4,5))\n",
    "print(\"4.\",np.ones((2, 2), dtype=bool))\n",
    "print(np.full(10,True))"
   ]
  },
  {
   "cell_type": "code",
   "execution_count": 33,
   "metadata": {},
   "outputs": [
    {
     "data": {
      "text/plain": [
       "array([0, 1, 2, 3, 4, 5, 6, 7, 8, 9])"
      ]
     },
     "execution_count": 33,
     "metadata": {},
     "output_type": "execute_result"
    }
   ],
   "source": [
    "x=np.arange(-50,55,5)\n",
    "z=np.arange(0,10,1)\n",
    "#z=z[::-1]\n",
    "z"
   ]
  },
  {
   "cell_type": "code",
   "execution_count": 34,
   "metadata": {},
   "outputs": [
    {
     "data": {
      "text/plain": [
       "array([[0.        , 0.        , 0.        , 0.        , 0.        ,\n",
       "        0.        , 0.        , 0.        , 0.        , 0.        ,\n",
       "        0.        , 0.        , 0.        , 0.        , 0.        ,\n",
       "        0.        , 0.        , 0.        , 0.        , 0.        ,\n",
       "        0.        ],\n",
       "       [0.        , 0.73754657, 1.16144   , 1.38888583, 1.50063407,\n",
       "        1.54947917, 1.56762667, 1.57292657, 1.57397333, 1.5740725 ,\n",
       "        1.57407407, 1.5740725 , 1.57397333, 1.57292657, 1.56762667,\n",
       "        1.54947917, 1.50063407, 1.38888583, 1.16144   , 0.73754657,\n",
       "        0.        ],\n",
       "       [0.        , 1.38832296, 2.18624   , 2.61437333, 2.82472296,\n",
       "        2.91666667, 2.95082667, 2.96080296, 2.96277333, 2.96296   ,\n",
       "        2.96296296, 2.96296   , 2.96277333, 2.96080296, 2.95082667,\n",
       "        2.91666667, 2.82472296, 2.61437333, 2.18624   , 1.38832296,\n",
       "        0.        ],\n",
       "       [0.        , 1.95232917, 3.0744    , 3.6764625 , 3.97226667,\n",
       "        4.1015625 , 4.1496    , 4.16362917, 4.1664    , 4.1666625 ,\n",
       "        4.16666667, 4.1666625 , 4.1664    , 4.16362917, 4.1496    ,\n",
       "        4.1015625 , 3.97226667, 3.6764625 , 3.0744    , 1.95232917,\n",
       "        0.        ],\n",
       "       [0.        , 2.42956519, 3.82592   , 4.57515333, 4.94326519,\n",
       "        5.10416667, 5.16394667, 5.18140519, 5.18485333, 5.18518   ,\n",
       "        5.18518519, 5.18518   , 5.18485333, 5.18140519, 5.16394667,\n",
       "        5.10416667, 4.94326519, 4.57515333, 3.82592   , 2.42956519,\n",
       "        0.        ],\n",
       "       [0.        , 2.82003102, 4.4408    , 5.31044583, 5.73771852,\n",
       "        5.92447917, 5.99386667, 6.01413102, 6.01813333, 6.0185125 ,\n",
       "        6.01851852, 6.0185125 , 6.01813333, 6.01413102, 5.99386667,\n",
       "        5.92447917, 5.73771852, 5.31044583, 4.4408    , 2.82003102,\n",
       "        0.        ],\n",
       "       [0.        , 3.12372667, 4.91904   , 5.88234   , 6.35562667,\n",
       "        6.5625    , 6.63936   , 6.66180667, 6.66624   , 6.66666   ,\n",
       "        6.66666667, 6.66666   , 6.66624   , 6.66180667, 6.63936   ,\n",
       "        6.5625    , 6.35562667, 5.88234   , 4.91904   , 3.12372667,\n",
       "        0.        ],\n",
       "       [0.        , 3.34065213, 5.26064   , 6.29083583, 6.79698963,\n",
       "        7.01822917, 7.10042667, 7.12443213, 7.12917333, 7.1296225 ,\n",
       "        7.12962963, 7.1296225 , 7.12917333, 7.12443213, 7.10042667,\n",
       "        7.01822917, 6.79698963, 6.29083583, 5.26064   , 3.34065213,\n",
       "        0.        ],\n",
       "       [0.        , 3.47080741, 5.4656    , 6.53593333, 7.06180741,\n",
       "        7.29166667, 7.37706667, 7.40200741, 7.40693333, 7.4074    ,\n",
       "        7.40740741, 7.4074    , 7.40693333, 7.40200741, 7.37706667,\n",
       "        7.29166667, 7.06180741, 6.53593333, 5.4656    , 3.47080741,\n",
       "        0.        ],\n",
       "       [0.        , 3.5141925 , 5.53392   , 6.6176325 , 7.15008   ,\n",
       "        7.3828125 , 7.46928   , 7.4945325 , 7.49952   , 7.4999925 ,\n",
       "        7.5       , 7.4999925 , 7.49952   , 7.4945325 , 7.46928   ,\n",
       "        7.3828125 , 7.15008   , 6.6176325 , 5.53392   , 3.5141925 ,\n",
       "        0.        ]])"
      ]
     },
     "execution_count": 34,
     "metadata": {},
     "output_type": "execute_result"
    }
   ],
   "source": [
    "xs=x/50\n",
    "zs=(z/9)\n",
    "zs=zs.reshape(zs.shape[0],1)\n",
    "ys=(2*zs-zs**2)*(1-xs**2)*(1+xs**2+xs**4)\n",
    "y=ys*7.5\n",
    "y"
   ]
  },
  {
   "cell_type": "code",
   "execution_count": 38,
   "metadata": {},
   "outputs": [],
   "source": [
    "import pandas as pd\n",
    "df=pd.DataFrame(y,columns=x,index=z)\n",
    "df\n",
    "df.to_csv(\"ship.csv\",encoding='utf-8')"
   ]
  },
  {
   "cell_type": "markdown",
   "metadata": {},
   "source": [
    "# 取值"
   ]
  },
  {
   "cell_type": "code",
   "execution_count": 4,
   "metadata": {},
   "outputs": [
    {
     "name": "stdout",
     "output_type": "stream",
     "text": [
      "#1 [[False False False]\n",
      " [ True  True  True]]\n",
      "#2 [3 4 5 6]\n",
      "#3 [2 5]\n",
      "[[1 2 3]]\n"
     ]
    },
    {
     "data": {
      "text/plain": [
       "array([ 4, 10, 18])"
      ]
     },
     "execution_count": 4,
     "metadata": {},
     "output_type": "execute_result"
    }
   ],
   "source": [
    "a=np.array([[1,2,3],[4,5,6]])\n",
    "#a[0]    #取值\n",
    "print(\"#1\",a>3)\n",
    "print(\"#2\",a[a>2])\n",
    "print(\"#3\",a[:,1])\n",
    "print(a[[True,False]])\n",
    "np.multiply.reduce(a)"
   ]
  },
  {
   "cell_type": "code",
   "execution_count": 2,
   "metadata": {},
   "outputs": [
    {
     "ename": "NameError",
     "evalue": "name 'a' is not defined",
     "output_type": "error",
     "traceback": [
      "\u001b[1;31m---------------------------------------------------------------------------\u001b[0m",
      "\u001b[1;31mNameError\u001b[0m                                 Traceback (most recent call last)",
      "\u001b[1;32m<ipython-input-2-3f786850e387>\u001b[0m in \u001b[0;36m<module>\u001b[1;34m()\u001b[0m\n\u001b[1;32m----> 1\u001b[1;33m \u001b[0ma\u001b[0m\u001b[1;33m\u001b[0m\u001b[0m\n\u001b[0m",
      "\u001b[1;31mNameError\u001b[0m: name 'a' is not defined"
     ]
    }
   ],
   "source": []
  },
  {
   "cell_type": "code",
   "execution_count": 11,
   "metadata": {},
   "outputs": [
    {
     "data": {
      "text/plain": [
       "(2,)"
      ]
     },
     "execution_count": 11,
     "metadata": {},
     "output_type": "execute_result"
    }
   ],
   "source": [
    "np.array([True,False]).shape"
   ]
  },
  {
   "cell_type": "code",
   "execution_count": 12,
   "metadata": {},
   "outputs": [
    {
     "data": {
      "text/plain": [
       "array([[1],\n",
       "       [2],\n",
       "       [3]])"
      ]
     },
     "execution_count": 12,
     "metadata": {},
     "output_type": "execute_result"
    }
   ],
   "source": [
    "a=np.array([1,2,3])\n",
    "b=np.array([1,2,3])\n",
    "#np.dot(a,b)    #運算a & b\n",
    "#a*b\n",
    "a.reshape(a.shape[0],1)"
   ]
  },
  {
   "cell_type": "code",
   "execution_count": 5,
   "metadata": {},
   "outputs": [
    {
     "name": "stdout",
     "output_type": "stream",
     "text": [
      "[1 3]\n",
      "[3 5]\n",
      "#1 [[1 2]\n",
      " [3 3]\n",
      " [2 1]]\n",
      "#2 [[1 3]\n",
      " [2 2]\n",
      " [3 1]]\n"
     ]
    },
    {
     "data": {
      "text/plain": [
       "array([[0, 1, 2],\n",
       "       [2, 1, 0]], dtype=int64)"
      ]
     },
     "execution_count": 5,
     "metadata": {},
     "output_type": "execute_result"
    }
   ],
   "source": [
    "a=np.array([1,3,2,4,5,6])\n",
    "print(a[0:2])\n",
    "print(a[np.array([1,4])])\n",
    "#a.reshape((3,2))       #形狀 順序\n",
    "a.shape\n",
    "a=np.array([[1,2,3],[3,2,1]])\n",
    "print(\"#1\",a.reshape(3,2))\n",
    "print(\"#2\",np.transpose(a))#行列互換\n",
    "#a.sort(1)\n",
    "#a.repeat(3,1)\n",
    "np.argsort(a) #回傳Index\n"
   ]
  },
  {
   "cell_type": "code",
   "execution_count": 10,
   "metadata": {},
   "outputs": [
    {
     "data": {
      "text/plain": [
       "array([6, 9])"
      ]
     },
     "execution_count": 10,
     "metadata": {},
     "output_type": "execute_result"
    }
   ],
   "source": [
    "a=np.array([[1,2,3],[2,3,4]])\n",
    "np.sum(a,1)     #運算 a & a\n",
    "#np.sum(a,0)\n",
    "#np.sin(a)\n"
   ]
  },
  {
   "cell_type": "code",
   "execution_count": 8,
   "metadata": {},
   "outputs": [
    {
     "data": {
      "text/plain": [
       "(2, 1)"
      ]
     },
     "execution_count": 8,
     "metadata": {},
     "output_type": "execute_result"
    }
   ],
   "source": [
    "a=np.array([[1,2,3],[1,2,3]])\n",
    "b=np.array([[1],[2]])\n",
    "b.shape\n"
   ]
  },
  {
   "cell_type": "markdown",
   "metadata": {},
   "source": [
    "# ax+b  in:(a,b)   out:x"
   ]
  },
  {
   "cell_type": "code",
   "execution_count": 4,
   "metadata": {},
   "outputs": [
    {
     "data": {
      "text/plain": [
       "array([ 0.196,  0.2  , -0.004,  0.48 ,  0.266,  0.68 ])"
      ]
     },
     "execution_count": 4,
     "metadata": {},
     "output_type": "execute_result"
    }
   ],
   "source": [
    "a=np.array([[1,-1,-1,0,0,0],\n",
    "           [0,0,1,-1,-1,0],\n",
    "           [0,1,0,1,0,-1],\n",
    "           [0,-80,0,0,0,-50],\n",
    "           [0,-80,800,40,0,0],\n",
    "           [0,0,0,40,-200,50]])\n",
    "b=np.array([0,-0.75,0,-50,0,0])\n",
    "np.linalg.solve(a, b)"
   ]
  },
  {
   "cell_type": "code",
   "execution_count": 14,
   "metadata": {},
   "outputs": [
    {
     "data": {
      "text/plain": [
       "array([ True,  True])"
      ]
     },
     "execution_count": 14,
     "metadata": {},
     "output_type": "execute_result"
    }
   ],
   "source": [
    "a=np.array([1,0],dtype=bool)\n",
    "b=np.array([1,1],dtype=bool)\n",
    "a+b"
   ]
  },
  {
   "cell_type": "code",
   "execution_count": 4,
   "metadata": {},
   "outputs": [],
   "source": [
    "import dill\n"
   ]
  },
  {
   "cell_type": "code",
   "execution_count": null,
   "metadata": {},
   "outputs": [],
   "source": []
  }
 ],
 "metadata": {
  "kernelspec": {
   "display_name": "Python 3",
   "language": "python",
   "name": "python3"
  },
  "language_info": {
   "codemirror_mode": {
    "name": "ipython",
    "version": 3
   },
   "file_extension": ".py",
   "mimetype": "text/x-python",
   "name": "python",
   "nbconvert_exporter": "python",
   "pygments_lexer": "ipython3",
   "version": "3.6.4"
  }
 },
 "nbformat": 4,
 "nbformat_minor": 2
}
