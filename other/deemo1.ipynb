{
 "cells": [
  {
   "cell_type": "code",
   "execution_count": 2,
   "metadata": {
    "collapsed": true
   },
   "outputs": [
    {
     "name": "stderr",
     "output_type": "stream",
     "text": [
      "C:\\Users\\gordon\\Anaconda3\\lib\\site-packages\\ipykernel_launcher.py:3: UserWarning: \n",
      "This call to matplotlib.use() has no effect because the backend has already\n",
      "been chosen; matplotlib.use() must be called *before* pylab, matplotlib.pyplot,\n",
      "or matplotlib.backends is imported for the first time.\n",
      "\n",
      "The backend was *originally* set to 'module://ipykernel.pylab.backend_inline' by the following code:\n",
      "  File \"C:\\Users\\gordon\\Anaconda3\\lib\\runpy.py\", line 193, in _run_module_as_main\n",
      "    \"__main__\", mod_spec)\n",
      "  File \"C:\\Users\\gordon\\Anaconda3\\lib\\runpy.py\", line 85, in _run_code\n",
      "    exec(code, run_globals)\n",
      "  File \"C:\\Users\\gordon\\Anaconda3\\lib\\site-packages\\ipykernel_launcher.py\", line 16, in <module>\n",
      "    app.launch_new_instance()\n",
      "  File \"C:\\Users\\gordon\\Anaconda3\\lib\\site-packages\\traitlets\\config\\application.py\", line 658, in launch_instance\n",
      "    app.start()\n",
      "  File \"C:\\Users\\gordon\\Anaconda3\\lib\\site-packages\\ipykernel\\kernelapp.py\", line 505, in start\n",
      "    self.io_loop.start()\n",
      "  File \"C:\\Users\\gordon\\Anaconda3\\lib\\site-packages\\tornado\\ioloop.py\", line 832, in start\n",
      "    self._run_callback(self._callbacks.popleft())\n",
      "  File \"C:\\Users\\gordon\\Anaconda3\\lib\\site-packages\\tornado\\ioloop.py\", line 605, in _run_callback\n",
      "    ret = callback()\n",
      "  File \"C:\\Users\\gordon\\Anaconda3\\lib\\site-packages\\tornado\\stack_context.py\", line 277, in null_wrapper\n",
      "    return fn(*args, **kwargs)\n",
      "  File \"C:\\Users\\gordon\\Anaconda3\\lib\\site-packages\\tornado\\gen.py\", line 1152, in inner\n",
      "    self.run()\n",
      "  File \"C:\\Users\\gordon\\Anaconda3\\lib\\site-packages\\tornado\\gen.py\", line 1069, in run\n",
      "    yielded = self.gen.send(value)\n",
      "  File \"C:\\Users\\gordon\\Anaconda3\\lib\\site-packages\\ipykernel\\kernelbase.py\", line 357, in process_one\n",
      "    yield gen.maybe_future(dispatch(*args))\n",
      "  File \"C:\\Users\\gordon\\Anaconda3\\lib\\site-packages\\tornado\\gen.py\", line 307, in wrapper\n",
      "    yielded = next(result)\n",
      "  File \"C:\\Users\\gordon\\Anaconda3\\lib\\site-packages\\ipykernel\\kernelbase.py\", line 267, in dispatch_shell\n",
      "    yield gen.maybe_future(handler(stream, idents, msg))\n",
      "  File \"C:\\Users\\gordon\\Anaconda3\\lib\\site-packages\\tornado\\gen.py\", line 307, in wrapper\n",
      "    yielded = next(result)\n",
      "  File \"C:\\Users\\gordon\\Anaconda3\\lib\\site-packages\\ipykernel\\kernelbase.py\", line 534, in execute_request\n",
      "    user_expressions, allow_stdin,\n",
      "  File \"C:\\Users\\gordon\\Anaconda3\\lib\\site-packages\\tornado\\gen.py\", line 307, in wrapper\n",
      "    yielded = next(result)\n",
      "  File \"C:\\Users\\gordon\\Anaconda3\\lib\\site-packages\\ipykernel\\ipkernel.py\", line 294, in do_execute\n",
      "    res = shell.run_cell(code, store_history=store_history, silent=silent)\n",
      "  File \"C:\\Users\\gordon\\Anaconda3\\lib\\site-packages\\ipykernel\\zmqshell.py\", line 536, in run_cell\n",
      "    return super(ZMQInteractiveShell, self).run_cell(*args, **kwargs)\n",
      "  File \"C:\\Users\\gordon\\Anaconda3\\lib\\site-packages\\IPython\\core\\interactiveshell.py\", line 2728, in run_cell\n",
      "    interactivity=interactivity, compiler=compiler, result=result)\n",
      "  File \"C:\\Users\\gordon\\Anaconda3\\lib\\site-packages\\IPython\\core\\interactiveshell.py\", line 2850, in run_ast_nodes\n",
      "    if self.run_code(code, result):\n",
      "  File \"C:\\Users\\gordon\\Anaconda3\\lib\\site-packages\\IPython\\core\\interactiveshell.py\", line 2910, in run_code\n",
      "    exec(code_obj, self.user_global_ns, self.user_ns)\n",
      "  File \"<ipython-input-2-7f6f58cbd40c>\", line 2, in <module>\n",
      "    import matplotlib.pyplot as plt\n",
      "  File \"C:\\Users\\gordon\\Anaconda3\\lib\\site-packages\\matplotlib\\pyplot.py\", line 72, in <module>\n",
      "    from matplotlib.backends import pylab_setup\n",
      "  File \"C:\\Users\\gordon\\Anaconda3\\lib\\site-packages\\matplotlib\\backends\\__init__.py\", line 14, in <module>\n",
      "    line for line in traceback.format_stack()\n",
      "\n",
      "\n",
      "  This is separate from the ipykernel package so we can avoid doing imports until\n"
     ]
    }
   ],
   "source": [
    "import matplotlib\n",
    "import matplotlib.pyplot as plt\n",
    "matplotlib.use('Agg')\n",
    "%matplotlib inline\n",
    "import random as random\n",
    "import numpy as np\n",
    "import csv"
   ]
  },
  {
   "cell_type": "code",
   "execution_count": 3,
   "metadata": {},
   "outputs": [],
   "source": [
    "x_data = [ 338.,  333.,  328. , 207. , 226.  , 25. , 179. ,  60. , 208.,  606.]\n",
    "y_data = [  640.  , 633. ,  619.  , 393.  , 428. ,   27.  , 193.  ,  66. ,  226. , 1591.]"
   ]
  },
  {
   "cell_type": "code",
   "execution_count": 4,
   "metadata": {},
   "outputs": [],
   "source": [
    "x = np.arange(-200,-100,1) #bias\n",
    "y = np.arange(-5,5,0.1) #weight\n",
    "Z =  np.zeros((len(x), len(y)))\n",
    "X, Y = np.meshgrid(x, y)\n",
    "for i in range(len(x)):\n",
    "    for j in range(len(y)):\n",
    "        b = x[i]\n",
    "        w = y[j]\n",
    "        Z[j][i] = 0\n",
    "        for n in range(len(x_data)):\n",
    "            Z[j][i] = Z[j][i] +  (y_data[n] - b - w*x_data[n])**2\n",
    "        Z[j][i] = Z[j][i]/len(x_data)"
   ]
  },
  {
   "cell_type": "code",
   "execution_count": 15,
   "metadata": {},
   "outputs": [],
   "source": [
    "# replace 3d loop\n",
    "x = np.arange(-200,-100,1) #bias\n",
    "y = np.arange(-5,5,0.1) #weight\n",
    "Z =  np.zeros((len(x), len(y)))\n",
    "X, Y = np.meshgrid(x, y)\n",
    "for i in range(len(x_data)):\n",
    "    temp=x_data[i]\n",
    "    temp=temp*y[np.newaxis].transpose()\n",
    "    temp=(temp+x-y_data[i])**2\n",
    "    Z=Z+temp"
   ]
  },
  {
   "cell_type": "code",
   "execution_count": 16,
   "metadata": {},
   "outputs": [
    {
     "data": {
      "image/png": "[encoded data removed]",
      "text/plain": [
       "<matplotlib.figure.Figure at 0x2548a6716d8>"
      ]
     },
     "metadata": {
      "needs_background": "light"
     },
     "output_type": "display_data"
    },
    {
     "name": "stdout",
     "output_type": "stream",
     "text": [
      "2.472956712632172 -120.05765898642849\n"
     ]
    }
   ],
   "source": [
    "# ydata = b + w * xdata \n",
    "b = -120. # initial b\t\n",
    "w = -4. # initial w\n",
    "lr = 1. # learning rate\n",
    "iteration = 100000\n",
    "\n",
    "b_lr = 0.0\n",
    "w_lr = 0.0\n",
    "\n",
    "# Store initial values for plotting.\n",
    "b_history = [b]\n",
    "w_history = [w]\n",
    "\n",
    "# Iterations\n",
    "for i in range(iteration):\n",
    "    \n",
    "    b_grad = 0.0\n",
    "    w_grad = 0.0\n",
    "    for n in range(len(x_data)):        \n",
    "        b_grad = b_grad  - 2.0*(y_data[n] - b - w*x_data[n])*1.0\n",
    "        w_grad = w_grad  - 2.0*(y_data[n] - b - w*x_data[n])*x_data[n]\n",
    "    \n",
    "    b_lr = b_lr + b_grad**2\n",
    "    w_lr = w_lr + w_grad**2\n",
    "    Lr=0.000000002\n",
    "    # Update parameters.\n",
    "    b = b-Lr*b_grad #b - lr/np.sqrt(b_lr) * b_grad \n",
    "    w =w-Lr*w_grad #w - lr/np.sqrt(w_lr) * w_grad\n",
    "    \n",
    "    # Store parameters for plotting\n",
    "    b_history.append(b)\n",
    "    w_history.append(w)\n",
    "\n",
    "# plot the figure\n",
    "plt.contourf(x,y,Z, 50, alpha=0.5, cmap=plt.get_cmap('jet'))\n",
    "plt.plot([-188.4], [2.67], 'x', ms=12, markeredgewidth=3, color='orange')\n",
    "plt.plot(b_history, w_history, 'o-', ms=3, lw=1.5, color='black')\n",
    "plt.xlim(-200,-100)\n",
    "plt.ylim(-5,5)\n",
    "plt.xlabel(r'$b$', fontsize=16)\n",
    "plt.ylabel(r'$w$', fontsize=16)\n",
    "plt.show()\n",
    "print(w,b)"
   ]
  },
  {
   "cell_type": "code",
   "execution_count": 7,
   "metadata": {},
   "outputs": [],
   "source": [
    "import pandas as pd\n",
    "import numpy as np\n",
    "frame=pd.read_csv(\"D:\\data\\ML\\pokemon.csv\",header=0,sep=\",\")\n",
    "frame.head()\n",
    "class grandient:\n",
    "    def __init__(self,x,y):\n",
    "        self.x=x\n",
    "        self.y=y\n",
    "        self.bass=np.sum(self.y**2)\n",
    "    def lossfunc(self,w,b):\n",
    "        return np.sum((self.y-(w*self.x+b))**2)\n",
    "    def lossfunc2(self,w2,w1,b):\n",
    "        return np.sum((self.y-(w2*(self.x**2)+w1*self.x+b))**2)"
   ]
  },
  {
   "cell_type": "code",
   "execution_count": 8,
   "metadata": {},
   "outputs": [
    {
     "data": {
      "text/plain": [
       "[<matplotlib.lines.Line2D at 0x2548a2bbe10>]"
      ]
     },
     "execution_count": 8,
     "metadata": {},
     "output_type": "execute_result"
    },
    {
     "data": {
      "image/png": "[encoded data removed]",
      "text/plain": [
       "<matplotlib.figure.Figure at 0x25488076358>"
      ]
     },
     "metadata": {
      "needs_background": "light"
     },
     "output_type": "display_data"
    }
   ],
   "source": [
    "import matplotlib.pyplot as plt\n",
    "plt.plot(x_data,y_data,\"ro\")# 繪製 hp cp 關係"
   ]
  },
  {
   "cell_type": "code",
   "execution_count": 9,
   "metadata": {},
   "outputs": [
    {
     "name": "stdout",
     "output_type": "stream",
     "text": [
      "2.122262787510723 1.97337784799457 202969.84057442183\n"
     ]
    },
    {
     "data": {
      "image/png": "[encoded data removed]",
      "text/plain": [
       "<matplotlib.figure.Figure at 0x25488076470>"
      ]
     },
     "metadata": {
      "needs_background": "light"
     },
     "output_type": "display_data"
    }
   ],
   "source": [
    "cp=np.array(x_data)#np.array(frame[\"cp\"])\n",
    "hp=np.array(y_data)#np.array(frame[\"hp\"])\n",
    "w=4\n",
    "b=2\n",
    "g=grandient(cp,hp)\n",
    "error=[]\n",
    "sep=0.0000001\n",
    "change_rate=0.000000001\n",
    "for i in range(20000):\n",
    "    losswp=g.lossfunc(w-sep,b)\n",
    "    losswn=g.lossfunc(w+sep,b)\n",
    "    lossbp=g.lossfunc(w,b-sep)\n",
    "    lossbn=g.lossfunc(w,b+sep)\n",
    "    error.append(losswp)\n",
    "    w=w-(losswn-losswp)/sep/2*change_rate\n",
    "   # print((losswn-losswp)/sep/2*change_rate)\n",
    "    b=b-(lossbn-lossbp)/sep/2*change_rate\n",
    "plt.plot(error)\n",
    "print(w,b,error[-1])   "
   ]
  },
  {
   "cell_type": "code",
   "execution_count": 10,
   "metadata": {},
   "outputs": [
    {
     "data": {
      "image/png": "[encoded data removed]",
      "text/plain": [
       "<matplotlib.figure.Figure at 0x2548a3d6e80>"
      ]
     },
     "metadata": {
      "needs_background": "light"
     },
     "output_type": "display_data"
    }
   ],
   "source": [
    "plt.plot()# 繪製 hp cp 關係\n",
    "l1 = plt.plot(cp,hp,\"ro\")\n",
    "x=np.array(range(0,600,10))\n",
    "l2 = plt.plot(x,x*w+b)\n",
    "plt.legend(['real','theory'])\n",
    "plt.show()"
   ]
  },
  {
   "cell_type": "code",
   "execution_count": 11,
   "metadata": {},
   "outputs": [
    {
     "name": "stdout",
     "output_type": "stream",
     "text": [
      "0.0025973740387069525 1.000005245955902 2.0000000117152745 25263.830936162416\n"
     ]
    },
    {
     "data": {
      "image/png": "[encoded data removed]",
      "text/plain": [
       "<matplotlib.figure.Figure at 0x2548a302e10>"
      ]
     },
     "metadata": {
      "needs_background": "light"
     },
     "output_type": "display_data"
    }
   ],
   "source": [
    "cp=np.array(x_data)#np.array(frame[\"cp\"])\n",
    "hp=np.array(y_data)#np.array(frame[\"hp\"])\n",
    "w1=1\n",
    "w2=0\n",
    "b=2\n",
    "g=grandient(cp,hp)\n",
    "error=[]\n",
    "sep=0.00000000001\n",
    "change_rate=0.000000000000001\n",
    "for i in range(10000):\n",
    "    lossw1p=g.lossfunc2(w2,w1-sep,b)\n",
    "    lossw1n=g.lossfunc2(w2,w1+sep,b)\n",
    "    lossbp=g.lossfunc2(w2,w1,b-sep)\n",
    "    lossbn=g.lossfunc2(w2,w1,b+sep)\n",
    "    lossw2p=g.lossfunc2(w2-sep,w1,b)\n",
    "    lossw2n=g.lossfunc2(w2+sep,w1,b)\n",
    "    error.append(lossw1p)\n",
    "    w1=w1-(lossw1n-lossw1p)/sep/2*change_rate\n",
    "   # print((losswn-losswp)/sep/2*change_rate)\n",
    "    w2=w2-(lossw2n-lossw2p)/sep/2*change_rate\n",
    "    b=b-(lossbn-lossbp)/sep/2*change_rate\n",
    "plt.plot(error)\n",
    "print(w2,w1,b,error[-1])   "
   ]
  },
  {
   "cell_type": "code",
   "execution_count": 12,
   "metadata": {},
   "outputs": [
    {
     "data": {
      "image/png": "[encoded data removed]",
      "text/plain": [
       "<matplotlib.figure.Figure at 0x2548a434e10>"
      ]
     },
     "metadata": {
      "needs_background": "light"
     },
     "output_type": "display_data"
    }
   ],
   "source": [
    "plt.plot()# 繪製 hp cp 關係\n",
    "l1 = plt.plot(cp,hp,\"ro\")\n",
    "x=np.array(range(0,600,10))\n",
    "l2 = plt.plot(x,w2*(x**2)+w1*x+b)\n",
    "plt.legend(['real','theory'])\n",
    "plt.show()"
   ]
  },
  {
   "cell_type": "code",
   "execution_count": 18,
   "metadata": {},
   "outputs": [],
   "source": []
  },
  {
   "cell_type": "code",
   "execution_count": 54,
   "metadata": {},
   "outputs": [
    {
     "name": "stdout",
     "output_type": "stream",
     "text": [
      "c1 4e-09 c2 2.5e-10 r1 111981.73300220034 r2 111981.73300220034 r3 1413834.9514563105\n"
     ]
    }
   ],
   "source": [
    "wc=2*3.1415*400\n",
    "\n",
    "c1=4*10**-9\n",
    "c2=0.25*10**-9\n",
    "r=4.227\n",
    "r0=1/16\n",
    "r=14.213\n",
    "r3=r/wc/c1\n",
    "r1=1/(r0*r*wc*c1)\n",
    "r2=r1\n",
    "print(\"c1 \"+str(c1)+\" c2 \"+str(c2)+\" r1 \"+str(r1)+\" r2 \"+str(r2)+\" r3 \"+str(r3))"
   ]
  },
  {
   "cell_type": "code",
   "execution_count": 55,
   "metadata": {},
   "outputs": [
    {
     "name": "stdout",
     "output_type": "stream",
     "text": [
      "4641.837984334764 6316174.24\n",
      "4636.854 6316174.240000001\n"
     ]
    }
   ],
   "source": [
    "\n",
    "\n",
    "\n",
    "print((2/r2+1/r3)/c1,1/(r2*r3*c1*c2))\n",
    "print(1.845*wc,wc**2)\n"
   ]
  },
  {
   "cell_type": "code",
   "execution_count": null,
   "metadata": {},
   "outputs": [],
   "source": []
  }
 ],
 "metadata": {
  "kernelspec": {
   "display_name": "Python 3",
   "language": "python",
   "name": "python3"
  },
  "language_info": {
   "codemirror_mode": {
    "name": "ipython",
    "version": 3
   },
   "file_extension": ".py",
   "mimetype": "text/x-python",
   "name": "python",
   "nbconvert_exporter": "python",
   "pygments_lexer": "ipython3",
   "version": "3.6.4"
  }
 },
 "nbformat": 4,
 "nbformat_minor": 1
}
