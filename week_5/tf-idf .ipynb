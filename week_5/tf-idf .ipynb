{
 "cells": [
  {
   "cell_type": "markdown",
   "metadata": {},
   "source": [
    "# 資料:ntu course [評價]"
   ]
  },
  {
   "cell_type": "code",
   "execution_count": 98,
   "metadata": {},
   "outputs": [
    {
     "data": {
      "text/plain": [
       "'\"x\"\\n\"1\" \"作者rrro (小傑)'"
      ]
     },
     "execution_count": 98,
     "metadata": {},
     "output_type": "execute_result"
    }
   ],
   "source": [
    "f1=\"D:/python/data/test3.txt\"\n",
    "with open(f1,\"r\") as file:\n",
    "    s1=file.read()\n",
    "textlist=s1.split(\"看板NTUcourse標題[評價]\")\n",
    "textlist.pop(0)"
   ]
  },
  {
   "cell_type": "code",
   "execution_count": 99,
   "metadata": {},
   "outputs": [],
   "source": [
    "import jieba as jb\n",
    "import numpy as np\n",
    "from sklearn.feature_extraction.text import CountVectorizer\n",
    "class wordvec:\n",
    "    def __init__(self,textlist,addlist=[]):\n",
    "        addlist.append(\"這個是分隔詞窩\")\n",
    "        for i in addlist:\n",
    "            jb.add_word(i)\n",
    "        vectorizer = CountVectorizer(ngram_range=(1, 1), lowercase=False, token_pattern = r'\\b\\w+\\b', min_df = 1)\n",
    "        jbcut=jb.lcut(\"這個是分隔詞窩\".join(textlist))\n",
    "        jbcut=\",\".join(jbcut).split(\"這個是分隔詞窩\")\n",
    "        tf_mat = vectorizer.fit_transform(jbcut)\n",
    "        self.words = np.array(vectorizer.get_feature_names())\n",
    "        self.farray=np.array(tf_mat.toarray())\n",
    "        self.ntf1=np.ones(len(self.words),dtype=bool)\n",
    "        self.ntf2=np.ones(len(self.words),dtype=bool)\n",
    "    def filter_ratio(self,from_a=0,to_b=0):\n",
    "        if(from_a>=to_b):\n",
    "            return None\n",
    "        else:\n",
    "            narray=np.array(self.farray)\n",
    "            narrayindoc=np.sum(np.heaviside(narray, 0),0 )\n",
    "            narrayratio=narrayindoc/narray.shape[0]\n",
    "            ntfa=from_a<narrayratio\n",
    "            ntfb=narrayratio<=to_b\n",
    "            self.ntf1=ntfa*ntfb\n",
    "            return self.ntf1\n",
    "    def filter_stopword(self,stopword=[],num=True,eng=False):\n",
    "        tfmat=np.ones(len(self.words),dtype=bool)\n",
    "        if(len(stopword)!=0):\n",
    "            \n",
    "            for i in range(len(self.words)):\n",
    "                if (self.words[i] in stopword):\n",
    "                    tfmat[i]=False\n",
    "        ntf2=tfmat\n",
    "        \n",
    "        if(num==True):\n",
    "            tfmat=np.ones(len(self.words),dtype=bool)\n",
    "            for i in range(len(self.words)):\n",
    "                if(48<=ord(self.words[i][0])<=57):\n",
    "                    tfmat[i]=False\n",
    "            ntf2=ntf2*tfmat\n",
    "        if(eng==True):\n",
    "            tfmat=np.ones(len(self.words),dtype=bool)\n",
    "            for i in range(len(self.words)):\n",
    "                if(97<=ord(self.words[i][0])<=122 or 65<=ord(self.words[i][0])<=90):\n",
    "                    tfmat[i]=False\n",
    "                ntf2=ntf2*tfmat\n",
    "        self.ntf2=ntf2\n",
    "        return ntf2\n",
    "              \n",
    "        \n",
    "    \n",
    "    def tfidf(self):\n",
    "        \n",
    "        narray=np.array(self.farray)\n",
    "        narrayindoc=np.sum(np.heaviside(narray, 0),0 )\n",
    "        tfidf_mat=narray*np.log(narray.shape[0]/narrayindoc)\n",
    "        self.tfidf_mat=tfidf_mat\n",
    "        return tfidf_mat\n",
    "    def get_mat(self,tfidf=True,stopword=True,ratio=True,typ=\"mat\"):\n",
    "        tfmat=np.ones(len(self.words),dtype=bool)\n",
    "        mat=self.farray\n",
    "        if(stopword==True):\n",
    "            tfmat=tfmat*self.ntf2\n",
    "        if(ratio==True):\n",
    "            tfmat=tfmat*self.ntf1\n",
    "        if(tfidf==True):\n",
    "            mat=self.tfidf_mat[:,tfmat]\n",
    "            words=self.words[tfmat]\n",
    "            \n",
    "        else:\n",
    "            mat=self.farray[:,tfmat]\n",
    "            words=self.words[tfmat]\n",
    "            \n",
    "        if(typ==\"mat\"):\n",
    "            return mat\n",
    "        if(typ==\"words\"):\n",
    "            return words\n",
    "        \n",
    "        "
   ]
  },
  {
   "cell_type": "code",
   "execution_count": 100,
   "metadata": {},
   "outputs": [],
   "source": [
    "w=wordvec(textlist,[\"紮實\",'紮實甜','又甜又涼',\"因人而異\",\"看個人\"]) #自訂字庫"
   ]
  },
  {
   "cell_type": "code",
   "execution_count": 101,
   "metadata": {},
   "outputs": [
    {
     "data": {
      "text/plain": [
       "array([[0.        , 0.        , 0.        , ..., 0.        , 0.        ,\n",
       "        0.        ],\n",
       "       [0.        , 0.        , 0.        , ..., 0.        , 0.        ,\n",
       "        0.        ],\n",
       "       [0.        , 0.78275934, 0.        , ..., 0.        , 0.        ,\n",
       "        0.        ],\n",
       "       ...,\n",
       "       [0.        , 2.34827802, 0.        , ..., 0.        , 0.        ,\n",
       "        0.        ],\n",
       "       [0.        , 0.        , 0.        , ..., 0.        , 0.        ,\n",
       "        0.        ],\n",
       "       [0.        , 0.        , 0.        , ..., 0.        , 0.        ,\n",
       "        0.        ]])"
      ]
     },
     "execution_count": 101,
     "metadata": {},
     "output_type": "execute_result"
    }
   ],
   "source": [
    "w.filter_ratio(0.1,0.3)  #採用在10% 到 30%的文章出現過的詞\n",
    "w.filter_stopword(stopword=[\"一人\",\"以下\",'一份', '一半', \n",
    "                            '一堂', '一學期', '一本',],eng=True,num=True) #過濾停用字，英文，數字\n",
    "w.tfidf()   #產生tfidf矩陣"
   ]
  },
  {
   "cell_type": "code",
   "execution_count": 102,
   "metadata": {},
   "outputs": [
    {
     "data": {
      "text/plain": [
       "array(['_', '一樣', '一直', '一篇', '一組', '一般', '一起', '一門', '一開始', '一題', '一點',\n",
       "       '三', '三次', '上下', '上台', '上學期', '上面', '下學期', '下課', '不到', '不同', '不好',\n",
       "       '不少', '不然', '不算', '不能', '不錯', '不難', '不點', '中文', '主', '主題', '之前',\n",
       "       '之類', '了解', '事', '事情', '二', '交', '人覺', '今年', '介紹', '以上', '以前',\n",
       "       '以及', '任何', '似乎', '佔', '使用', '例如', '係', '修過', '值得', '偏甜', '偶爾會',\n",
       "       '像', '像是', '先', '內', '全', '全班', '全簽', '全部', '兩', '兩個', '兩次', '其',\n",
       "       '其中', '出', '出來', '出席', '出現', '分享', '分析', '分組', '分鐘', '分類', '前面',\n",
       "       '加上', '努力', '包括', '十分', '印象', '卻', '原', '原因', '參考', '及', '另', '只',\n",
       "       '只能', '叫', '可惜', '可是', '台大', '吃', '各', '啊', '啦', '喔', '回家', '回答',\n",
       "       '因此', '地', '地方', '基本', '堂上', '大二', '大多', '大約', '大部分', '她', '好好',\n",
       "       '如', '如何', '字', '學到', '學習', '容易', '實際', '小', '小考', '尤其', '就算',\n",
       "       '就要', '左右', '差', '差不多', '已經', '希望', '帶', '幫', '幫助', '平均', '平常',\n",
       "       '幾乎', '幾個', '建議', '強調', '影響', '很大', '很少', '很棒', '得到', '心得', '心理',\n",
       "       '忘', '快', '念', '怎麼', '思考', '想法', '想要', '愛', '懂', '我個', '所有', '扎實',\n",
       "       '打', '找', '抄', '拿到', '推老師', '提到', '收', '故事', '教', '教室', '整理', '整體',\n",
       "       '數學', '文化', '文本', '文章', '新', '方法', '方面', '星', '時會', '普通', '更',\n",
       "       '最好', '有些', '有人', '有趣', '有關', '期初', '本', '本來', '板書', '根本', '概念',\n",
       "       '標準', '標題', '機會', '次', '正', '每', '每個', '每堂', '每次', '每週', '決定',\n",
       "       '沒關', '注意', '深入', '清楚', '準備', '滿', '滿分', '無', '然', '特別', '狀況', '班',\n",
       "       '班上', '理解', '理論', '甚至', '用到', '用心', '由', '申論題', '畢竟', '當然', '發展',\n",
       "       '發現', '直接', '相當', '看到', '知識', '研究', '社會', '禮拜', '程度', '穫', '第',\n",
       "       '第一', '第一堂', '第一次', '第二', '筆記', '等等', '答案', '算', '算是', '範例', '範圍',\n",
       "       '簡單', '約', '結果', '經驗', '練習', '總', '習', '習題', '老', '考', '考前', '考卷',\n",
       "       '考古', '而已', '而言', '背', '能力', '至少', '至於', '興趣', '花', '若', '英文', '著',\n",
       "       '蠻', '補充', '製', '複', '要求', '見', '觀念', '解釋', '計算', '記得', '評價', '該',\n",
       "       '認為', '認識', '說明', '課內容', '課前', '課堂', '課時', '課會', '課有', '調分', '講',\n",
       "       '講到', '講得', '講解', '講話', '講課', '讀', '買', '資料', '走', '起來', '超', '超級',\n",
       "       '跑', '輕', '這些', '這個', '這堂', '這是', '這種', '這麼', '通常', '進度', '進行',\n",
       "       '過程', '適合', '選', '選擇', '還', '還會', '還蠻', '那', '那些', '那麼', '重', '重要',\n",
       "       '重點', '長', '開', '開始', '閱讀', '阿', '除了', '陳', '難', '難度', '頗', '領域',\n",
       "       '高', '高中', '高分', '點名'], dtype='<U76')"
      ]
     },
     "execution_count": 102,
     "metadata": {},
     "output_type": "execute_result"
    }
   ],
   "source": [
    "w.get_mat(typ=\"words\")  #這些字可能是多篇文章中可以當作共同指標的字(不會在每篇都出現，卻也不會只出現在少數一兩篇文章)"
   ]
  },
  {
   "cell_type": "code",
   "execution_count": 103,
   "metadata": {},
   "outputs": [],
   "source": [
    "plotlist=[]\n",
    "for i in np.arange(0,0.4,0.02):\n",
    "    w.filter_ratio(i,i+0.02) \n",
    "    sl=(len(w.get_mat(typ=\"words\")))**0.5\n",
    "    plotlist.append(sl)"
   ]
  },
  {
   "cell_type": "markdown",
   "metadata": {},
   "source": [
    "### 這張圖顯示大部分的詞都只出現在很少的文章中\n",
    "### x 軸是所有文章中出現某詞的百分比,Y軸是詞的數量"
   ]
  },
  {
   "cell_type": "code",
   "execution_count": 104,
   "metadata": {},
   "outputs": [
    {
     "data": {
      "image/png": "[encoded data removed]",
      "text/plain": [
       "<matplotlib.figure.Figure at 0x15303359978>"
      ]
     },
     "metadata": {},
     "output_type": "display_data"
    }
   ],
   "source": [
    "import matplotlib.pyplot as plt \n",
    "plt.bar(list(np.arange(0,0.4,0.02)*100) ,plotlist) \n",
    "plt.show()"
   ]
  },
  {
   "cell_type": "code",
   "execution_count": 105,
   "metadata": {},
   "outputs": [
    {
     "data": {
      "text/plain": [
       "array([[0.        , 0.        , 0.        , ..., 0.        , 0.        ,\n",
       "        0.        ],\n",
       "       [0.        , 0.        , 0.        , ..., 0.        , 0.        ,\n",
       "        0.        ],\n",
       "       [0.        , 0.78275934, 0.        , ..., 0.        , 0.        ,\n",
       "        0.        ],\n",
       "       ...,\n",
       "       [0.        , 2.34827802, 0.        , ..., 0.        , 0.        ,\n",
       "        0.        ],\n",
       "       [0.        , 0.        , 0.        , ..., 0.        , 0.        ,\n",
       "        0.        ],\n",
       "       [0.        , 0.        , 0.        , ..., 0.        , 0.        ,\n",
       "        0.        ]])"
      ]
     },
     "execution_count": 105,
     "metadata": {},
     "output_type": "execute_result"
    }
   ],
   "source": [
    "\n",
    "w.filter_stopword(stopword=[\"一人\",\"以下\",'一份', '一半', \n",
    "                            '一堂', '一學期', '一本',],eng=True,num=True) #過濾停用字，英文，數字\n",
    "w.tfidf()\n"
   ]
  },
  {
   "cell_type": "markdown",
   "metadata": {},
   "source": [
    "### 比較兩種篩選法 一種篩出主題 一種篩出相關評價"
   ]
  },
  {
   "cell_type": "code",
   "execution_count": 113,
   "metadata": {},
   "outputs": [
    {
     "name": "stdout",
     "output_type": "stream",
     "text": [
      "['週' '柔道' '護身' '穿' '轉倒法' '蘇玫尹' '大腰' '地面' '倒法' '割' '制法' '壓' '肢體' '讚' '迴'\n",
      " '能撐' '壓制' '師會教' '標不標準' '怎能' '側翻' '觸多的關' '週看' '歡肢體']\n",
      "['評價' '心得' '等等' '每次' '介紹' '教室' '之外' '分類' '重要' '跑' '記得' '開始' '基本' '除了' '第二'\n",
      " '第三' '推老師' '就要' '一篇' '蠻' '左右' '偏甜' '就算' '正']\n"
     ]
    }
   ],
   "source": [
    "w.filter_ratio(0,0.1)  #採用在0% 到 10%的文章出現過的詞\n",
    "testm=w.get_mat(tfidf=True,typ=\"mat\")[8]\n",
    "testword=w.get_mat(typ=\"words\")\n",
    "\n",
    "print(testword[np.flip(np.argsort(testm),0)][1:25])\n",
    "w.filter_ratio(0.08,0.3)  #採用在8% 到 30%的文章出現過的詞\n",
    "testm=w.get_mat(tfidf=False,typ=\"mat\")[8]\n",
    "testword=w.get_mat(typ=\"words\")\n",
    "print(testword[np.flip(np.argsort(testm),0)][1:25])"
   ]
  },
  {
   "cell_type": "markdown",
   "metadata": {},
   "source": [
    "### 實際文章"
   ]
  },
  {
   "cell_type": "code",
   "execution_count": 114,
   "metadata": {},
   "outputs": [
    {
     "name": "stdout",
     "output_type": "stream",
     "text": [
      " 103-1 蘇玫尹 柔道初級時間Mon Feb  9 17:39:06 2015\n",
      "若是通識課程評價，請用 [通識] 分類，勿使用 [評價] 分類\n",
      "標題範例：[通識] A58 普通心理學丙 林以正 (看完後請用ctrl+y刪除這兩行)\n",
      "\n",
      "      ※ 本文是否可提供臺大同學轉作其他非營利用途？（須保留原作者 ID）\n",
      "         （是／否／其他條件）：\n",
      "               是\n",
      "\n",
      "      哪一學年度修課：\n",
      "             103-1\n",
      "\n",
      "      ψ 授課教師 (若為多人合授請寫開課教師，以方便收錄)\n",
      "             蘇玫尹\n",
      "\n",
      "      λ 開課系所與授課對象 (是否為必修或通識課 / 內容是否與某些背景相關) \n",
      "             專項運動，全校不限男女\n",
      "\n",
      "      δ 課程大概內容\n",
      "             第一週課程說明，\n",
      "             第二週柔道介紹，\n",
      "             第三週~第五週基本體能訓練、護身倒法練習\n",
      "             第六週~第八週大外割\n",
      "             第九週期中考不上課(調課到柔道新生盃12/21吧好像，必須觀賽)\n",
      "             第十週地面壓制法\n",
      "             第十一週看影片\n",
      "             第十二週地面壓制法\n",
      "             第十三週~第十五週 大腰\n",
      "             第十六週~第十七週期末考試\n",
      "\n",
      "      Ω 私心推薦指數(以五分計) ★★★★★\n",
      "             五分~~讚讚讚~\n",
      "\n",
      "      η 上課用書(影印講義或是指定教科書)\n",
      "            1.講義：\n",
      "                一開始課程說明有發課綱，老師上課完全依照課綱來上。\n",
      "                另外，柔道介紹那週，也有發一張講義，講解柔道歷史等等。\n",
      "            2.柔道服：\n",
      "                柔道服老師推薦去渤海堂買，我記得是第四週的時候就要穿\n",
      "                柔道服上課，除了看影片之外，每一週都一定要穿柔道服練\n",
      "                習，不然就只能在旁邊看。\n",
      "\n",
      "      μ 上課方式(投影片、團體討論、老師教學風格)\n",
      "            在上課之前就要先把柔道服穿好(帶柔道服的那週老師會教你穿)，\n",
      "        一般上課的時候老師會先點名，然後開始跑步(慢跑柔道教室、倒著\n",
      "        跑、側身跑、單腳跳)，繞完之後會蠻喘的，開始做操，做完操之後，\n",
      "        原地自己練習護身倒法，接著在移到教室邊邊，前滾翻、後滾翻、匍\n",
      "        伏前進、側翻、左右前迴轉倒法等等，所有基本功做完之後，一節課\n",
      "        就過去了。(前幾週不習慣的話會覺得蠻累的)\n",
      "            第二節課就開始一天的進度，老師會很仔細的一步一步教，而且\n",
      "        非常注重安全，每次都會和不同的人練習，所以也會順便認識大家，\n",
      "        老師人很親切，而且很強，每次看老師的姿勢，總是讓眾人瞠目結舌。\n",
      "        另外，相信老師的娃娃音也很有名，聽老師那麼親切，就覺得自己也\n",
      "        能撐下去啦XD\n",
      "\n",
      "      σ 評分方式(給分甜嗎？是紮實分？)\n",
      "            應該是紮實偏甜吧，期末考、出席率以及心得一篇都要算分。老\n",
      "        師有說，「心得不可以隨便敷衍我唷<U+2665>」哈哈語氣聽起來感覺都可以\n",
      "        加愛心了。\n",
      "            期末考老師說重點在有沒有做好該做的事，除了標不標準之外，\n",
      "        更重要的是取位、迫勢等等有沒有做到意思，盡力跟理解是最重要的。\n",
      "\n",
      "      ρ 考題型式、作業方式\n",
      "            1. 期末心得一篇\n",
      "            2. 期末考考上課教的東西：護身倒法、壓制、大外割、大腰，兩\n",
      "        個兩個一組，組員自己找，每組考試十分鐘，在第十四週的時候用抽\n",
      "        籤決定每組的時間。\n",
      "\n",
      "      ω 其它(是否注重出席率？如果為外系選修，需先有什麼基礎較好嗎？老師個性？\n",
      "              加簽習慣？嚴禁遲到等…)\n",
      "            沒有基礎，不過要記得不要怕，基本體力要有，確實有點累。另外，\n",
      "       老師不開放加簽，因為不能容納太多人，好像是第三類加簽吧。\n",
      "            每次頭髮都會弄得很亂XD，就算綁馬尾也是。會有很多肢體接觸，如\n",
      "       果不喜歡肢體接觸的人可能也不適合。\n",
      "\n",
      "      Ψ 總結\n",
      "           老師人很好，上這門課是個難忘的體驗，而且也許是因為肢體接\n",
      "       觸多的關係？感覺大家的感情到最後都變很好，氣氛很融洽。\n",
      "           超想選下學期的柔中，但是撞到系上必修了，好可惜啊~~~~\n",
      "           另外，老師曾經得意的說，他有朋友騎摩托車犁田的時候，使出\n",
      "       前迴轉倒法逃過受傷危機，老師說：「感覺好實用噢~~」\n",
      "\n",
      "--\n",
      "※ 發信站: 批踢踢實業坊(ptt.cc), 來自: 1.162.51.97\n",
      "※ 文章網址: https://www.ptt.cc/bbs/NTUcourse/M.1423474748.A.93C.html\n",
      "推 b01502092: push 02/09 18:06\n",
      "推 kikko1805: 感謝提供評價! 02/09 20:09\n",
      "→ oooo2552: 正是因為看到板上沒有評價，好課怎能沒有評價加持呢哈哈 02/10 09:10\n",
      "推 deathoflove: 推老師人很好! 02/10 22:52\n",
      "推 winniefreeze: 謝謝評價喔！ 02/11 02:10\n",
      "推 scorpiuswun: 推老師很可愛，分數很甜! 02/11 23:12\n",
      "推 doremi988766: 我以前修過老師的瑜珈課 她給我98 超愛她的~~~ 02/12 23:19\n",
      "推 leewenshin: 老師人超可愛的 會很nice的跟每個人講話 大推~~~~~ 02/15 14:10\n",
      "推 kevinorjohn0: 推好課 02/17 15:02\n",
      "推 s890002: 老師超可愛的~~ 02/24 00:57\n",
      "\"\n",
      "\"10\" \"作者BobBober (BobBober)\n"
     ]
    }
   ],
   "source": [
    "print(textlist[8])"
   ]
  },
  {
   "cell_type": "code",
   "execution_count": null,
   "metadata": {},
   "outputs": [],
   "source": []
  }
 ],
 "metadata": {
  "kernelspec": {
   "display_name": "Python 3",
   "language": "python",
   "name": "python3"
  },
  "language_info": {
   "codemirror_mode": {
    "name": "ipython",
    "version": 3
   },
   "file_extension": ".py",
   "mimetype": "text/x-python",
   "name": "python",
   "nbconvert_exporter": "python",
   "pygments_lexer": "ipython3",
   "version": "3.6.4"
  }
 },
 "nbformat": 4,
 "nbformat_minor": 2
}
